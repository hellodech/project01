{
  "nbformat": 4,
  "nbformat_minor": 0,
  "metadata": {
    "colab": {
      "provenance": [],
      "authorship_tag": "ABX9TyPy8S5a3vgGsyJ9e168Cgh1",
      "include_colab_link": true
    },
    "kernelspec": {
      "name": "python3",
      "display_name": "Python 3"
    },
    "language_info": {
      "name": "python"
    }
  },
  "cells": [
    {
      "cell_type": "markdown",
      "metadata": {
        "id": "view-in-github",
        "colab_type": "text"
      },
      "source": [
        "<a href=\"https://colab.research.google.com/github/hellodech/project01/blob/main/dech.ipynb\" target=\"_parent\"><img src=\"https://colab.research.google.com/assets/colab-badge.svg\" alt=\"Open In Colab\"/></a>"
      ]
    },
    {
      "cell_type": "code",
      "execution_count": null,
      "metadata": {
        "id": "6Jxzjq9tkJb8"
      },
      "outputs": [],
      "source": [
        "#asdfsdaf"
      ]
    },
    {
      "cell_type": "code",
      "source": [
        "print(\"ทดสอบ\")"
      ],
      "metadata": {
        "id": "-28j-cCLkUFh"
      },
      "execution_count": null,
      "outputs": []
    }
  ]
}