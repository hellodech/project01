{
  "nbformat": 4,
  "nbformat_minor": 0,
  "metadata": {
    "colab": {
      "provenance": [],
      "gpuType": "T4",
      "authorship_tag": "ABX9TyO36MVS7izn9oA7Qj/qsGMq",
      "include_colab_link": true
    },
    "kernelspec": {
      "name": "python3",
      "display_name": "Python 3"
    },
    "language_info": {
      "name": "python"
    },
    "accelerator": "GPU"
  },
  "cells": [
    {
      "cell_type": "markdown",
      "metadata": {
        "id": "view-in-github",
        "colab_type": "text"
      },
      "source": [
        "<a href=\"https://colab.research.google.com/github/hellodech/project01/blob/main/Ex01.ipynb\" target=\"_parent\"><img src=\"https://colab.research.google.com/assets/colab-badge.svg\" alt=\"Open In Colab\"/></a>"
      ]
    },
    {
      "cell_type": "code",
      "execution_count": null,
      "metadata": {
        "id": "v0QMW3wZTWKH"
      },
      "outputs": [],
      "source": [
        "# อบรม python วันที่ 27 พย. 67\n",
        "# 64202121 นายเดช  ธรรมศิริ หมู่เรียน 64/55\n"
      ]
    },
    {
      "cell_type": "code",
      "source": [
        "#ทดสอบรับค่า input\n",
        "name=input(\"กรุณากรอกชื่อ : \")\n",
        "print(\"ยินดีต้อนรับครับคุณ\"+name)"
      ],
      "metadata": {
        "colab": {
          "base_uri": "https://localhost:8080/"
        },
        "id": "urAK14A2UFeq",
        "outputId": "f3a23ead-8c87-4db7-e03a-6e5f2c90f310"
      },
      "execution_count": 1,
      "outputs": [
        {
          "output_type": "stream",
          "name": "stdout",
          "text": [
            "กรุณากรอกชื่อ : นายเดช  ธรรมศิริ\n",
            "ยินดีต้อนรับครับคุณนายเดช  ธรรมศิริ\n"
          ]
        }
      ]
    },
    {
      "cell_type": "code",
      "source": [
        "#ทดสอบรับค่า มาเพื่อทำการคำนวณ\n",
        "num1=int(input('ตัวเลขแรก : '))\n",
        "num2=int(input('ตัวเลขที่สอง : '))\n",
        "total=num1+num2\n",
        "print(\"ผลการบวก เท่ากับ \"+str(total))\n"
      ],
      "metadata": {
        "colab": {
          "base_uri": "https://localhost:8080/"
        },
        "id": "ktoLChSaUa1V",
        "outputId": "1e1b92b5-ef28-4f2d-aa2a-2008feb7e41f"
      },
      "execution_count": 4,
      "outputs": [
        {
          "output_type": "stream",
          "name": "stdout",
          "text": [
            "ตัวเลขแรก : 15\n",
            "ตัวเลขที่สอง : 4\n",
            "ผลการบวก เท่ากับ 19\n"
          ]
        }
      ]
    },
    {
      "cell_type": "code",
      "source": [
        "#ให้รับค่า เข้ามาเพื่อคำนวณค่า BMI\n",
        "# Body Mass Index (BMI) มีสูตรการคำนวณ = น้ำหนักตัว[Kg] / (ส่วนสูง[m] ยกกำลังสอง)\n",
        "#กำหนดรับค่า input น้ำหนักตัว กับ ส่วนสูง\n",
        "W = float(input(\"กรุณากรอกค่าน้ำหนัก กิโลกรัม : \"))\n",
        "H = float(input(\"กรุณากรอกค่าส่วนสูง ซม. : \"))\n",
        "\n",
        "# เขียนสมการเพื่อคำนวณค่า BMI\n",
        "H=H/100\n",
        "BMI = W/(H**2)\n",
        "print(\"ค่า BMI ของคุณ = \"+str(BMI))\n",
        "\n"
      ],
      "metadata": {
        "colab": {
          "base_uri": "https://localhost:8080/"
        },
        "id": "yvv9hc3xZxf0",
        "outputId": "db29dd6c-a2aa-4221-8e87-b6b2b3aca7f2"
      },
      "execution_count": 5,
      "outputs": [
        {
          "output_type": "stream",
          "name": "stdout",
          "text": [
            "กรุณากรอกค่าน้ำหนัก กิโลกรัม : 86\n",
            "กรุณากรอกค่าส่วนสูง ซม. : 173\n",
            "ค่า BMI ของคุณ = 28.734672057202044\n"
          ]
        }
      ]
    },
    {
      "cell_type": "code",
      "source": [
        "# คำนวณปริมาณคอนกรีตที่ต้องใช้\n",
        "# วิธีคำนวณคอนกรีตสำหรับ \"เทพื้น\"\n",
        "#ในการคำนวณปริมาณคอนกรีตที่ใช้เทพื้นนั้นมีสูตรคำนวณง่ายๆดังนี้\n",
        "#ปริมาณที่ต้องใช้(คิว) = พื้นที่(ตารางเมตร) x ความหนา(เซนติเมตร) x 0.01\n",
        "W=float(input(\"กรุณากรอกความกว้างของพื้นที่ เมตร : \"))\n",
        "L=float(input(\"กรุณากรอกความยาวของพื้นที่ เมตร : \"))\n",
        "H=float(input(\"กรุณากรอกความหนาของพื้นที่ต้องการ เซนติเมตร : \"))\n",
        "\n",
        "total=W*L*H*0.01\n",
        "print(\"ปริมาณคอนกรีตที่ต้องใช้ เท่ากับ \"+str(total)+\" คิว\")\n",
        "total = total+(total*0.1)\n",
        "print(\"ปริมาณคอนกรีตที่ต้องใช้หลังจากเผื่อไปอีก 10% เท่ากับ \"+str(total)+\" คิว\")\n"
      ],
      "metadata": {
        "colab": {
          "base_uri": "https://localhost:8080/"
        },
        "id": "_gCJ2YGWcSaP",
        "outputId": "b8e637e8-b52c-4432-f62e-f4e481c97ed4"
      },
      "execution_count": 6,
      "outputs": [
        {
          "output_type": "stream",
          "name": "stdout",
          "text": [
            "กรุณากรอกความกว้างของพื้นที่ เมตร : 5\n",
            "กรุณากรอกความยาวของพื้นที่ เมตร : 7\n",
            "กรุณากรอกความหนาของพื้นที่ต้องการ เซนติเมตร : 15\n",
            "ปริมาณคอนกรีตที่ต้องใช้ เท่ากับ 5.25 คิว\n",
            "ปริมาณคอนกรีตที่ต้องใช้หลังจากเผื่อไปอีก 10% เท่ากับ 5.775 คิว\n"
          ]
        }
      ]
    },
    {
      "cell_type": "code",
      "source": [
        "#การใช้ if else\n",
        "a=50\n",
        "b=70\n",
        "if a>b:\n",
        "    print(\"a มากกว่า b\")\n",
        "else:\n",
        "    print(\"a น้อยกว่า b\")"
      ],
      "metadata": {
        "colab": {
          "base_uri": "https://localhost:8080/"
        },
        "id": "_87sZEHijg4D",
        "outputId": "20b457d1-c793-4bc6-81b4-f95259ec596a"
      },
      "execution_count": 1,
      "outputs": [
        {
          "output_type": "stream",
          "name": "stdout",
          "text": [
            "a น้อยกว่า b\n"
          ]
        }
      ]
    },
    {
      "cell_type": "code",
      "source": [
        "#ให้รับค่า เข้ามาเพื่อคำนวณค่า BMI\n",
        "# Body Mass Index (BMI) มีสูตรการคำนวณ = น้ำหนักตัว[Kg] / (ส่วนสูง[m] ยกกำลังสอง)\n",
        "#กำหนดรับค่า input น้ำหนักตัว กับ ส่วนสูง\n",
        "W = float(input(\"กรุณากรอกค่าน้ำหนัก กิโลกรัม : \"))\n",
        "H = float(input(\"กรุณากรอกค่าส่วนสูง ซม. : \"))\n",
        "\n",
        "# เขียนสมการเพื่อคำนวณค่า BMI\n",
        "H=H/100\n",
        "BMI = W/(H**2)\n",
        "print(\"ค่า BMI ของคุณ = \"+str(BMI))\n",
        "#จากค่า BMI ที่คำนวณได้ ให้แสดงผล ตามตัวเลขดังนี้\n",
        "#อ้วนมาก = 30.0 ขึ้นไป\n",
        "#อ้วน = 25.0 - 29.9\n",
        "#น้ำหนักปกติ เหมาะสม = 18.6 - 24\n",
        "#ผอมเกินไป = น้อยกว่า 18.5\n",
        "\n",
        "if BMI>=30.0:\n",
        "    print(\"คุณอ้วนมาก\")\n",
        "elif BMI>=25:\n",
        "    print(\"คุณอ้วน\")\n",
        "elif BMI>=18.6:\n",
        "    print(\"คุณผอมเกินไป\")\n",
        "else:\n",
        "    print(\"คุณผอมเกินไป\")"
      ],
      "metadata": {
        "id": "E15lB2pNk5ZC"
      },
      "execution_count": null,
      "outputs": []
    }
  ]
}