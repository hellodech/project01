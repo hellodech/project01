{
  "nbformat": 4,
  "nbformat_minor": 0,
  "metadata": {
    "colab": {
      "provenance": [],
      "gpuType": "T4",
      "authorship_tag": "ABX9TyOu7i04kz0umyaPajMC3KeX",
      "include_colab_link": true
    },
    "kernelspec": {
      "name": "python3",
      "display_name": "Python 3"
    },
    "language_info": {
      "name": "python"
    },
    "accelerator": "GPU"
  },
  "cells": [
    {
      "cell_type": "markdown",
      "metadata": {
        "id": "view-in-github",
        "colab_type": "text"
      },
      "source": [
        "<a href=\"https://colab.research.google.com/github/hellodech/project01/blob/main/Ex01.ipynb\" target=\"_parent\"><img src=\"https://colab.research.google.com/assets/colab-badge.svg\" alt=\"Open In Colab\"/></a>"
      ]
    },
    {
      "cell_type": "code",
      "execution_count": null,
      "metadata": {
        "id": "v0QMW3wZTWKH"
      },
      "outputs": [],
      "source": [
        "# อบรม python วันที่ 27 พย. 67\n",
        "# 64202121 นายเดช  ธรรมศิริ หมู่เรียน 64/55\n"
      ]
    },
    {
      "cell_type": "code",
      "source": [
        "#ทดสอบรับค่า input\n",
        "name=input(\"กรุณากรอกชื่อ : \")\n",
        "print(\"ยินดีต้อนรับครับคุณ\"+name)"
      ],
      "metadata": {
        "colab": {
          "base_uri": "https://localhost:8080/"
        },
        "id": "urAK14A2UFeq",
        "outputId": "f3a23ead-8c87-4db7-e03a-6e5f2c90f310"
      },
      "execution_count": null,
      "outputs": [
        {
          "output_type": "stream",
          "name": "stdout",
          "text": [
            "กรุณากรอกชื่อ : นายเดช  ธรรมศิริ\n",
            "ยินดีต้อนรับครับคุณนายเดช  ธรรมศิริ\n"
          ]
        }
      ]
    },
    {
      "cell_type": "code",
      "source": [
        "#ทดสอบรับค่า มาเพื่อทำการคำนวณ\n",
        "num1=int(input('ตัวเลขแรก : '))\n",
        "num2=int(input('ตัวเลขที่สอง : '))\n",
        "total=num1+num2\n",
        "print(\"ผลการบวก เท่ากับ \"+str(total))\n"
      ],
      "metadata": {
        "colab": {
          "base_uri": "https://localhost:8080/"
        },
        "id": "ktoLChSaUa1V",
        "outputId": "1e1b92b5-ef28-4f2d-aa2a-2008feb7e41f"
      },
      "execution_count": null,
      "outputs": [
        {
          "output_type": "stream",
          "name": "stdout",
          "text": [
            "ตัวเลขแรก : 15\n",
            "ตัวเลขที่สอง : 4\n",
            "ผลการบวก เท่ากับ 19\n"
          ]
        }
      ]
    },
    {
      "cell_type": "code",
      "source": [
        "#ให้รับค่า เข้ามาเพื่อคำนวณค่า BMI\n",
        "# Body Mass Index (BMI) มีสูตรการคำนวณ = น้ำหนักตัว[Kg] / (ส่วนสูง[m] ยกกำลังสอง)\n",
        "#กำหนดรับค่า input น้ำหนักตัว กับ ส่วนสูง\n",
        "W = float(input(\"กรุณากรอกค่าน้ำหนัก กิโลกรัม : \"))\n",
        "H = float(input(\"กรุณากรอกค่าส่วนสูง ซม. : \"))\n",
        "\n",
        "# เขียนสมการเพื่อคำนวณค่า BMI\n",
        "H=H/100\n",
        "BMI = W/(H**2)\n",
        "print(\"ค่า BMI ของคุณ = \"+str(BMI))\n",
        "\n"
      ],
      "metadata": {
        "colab": {
          "base_uri": "https://localhost:8080/"
        },
        "id": "yvv9hc3xZxf0",
        "outputId": "db29dd6c-a2aa-4221-8e87-b6b2b3aca7f2"
      },
      "execution_count": null,
      "outputs": [
        {
          "output_type": "stream",
          "name": "stdout",
          "text": [
            "กรุณากรอกค่าน้ำหนัก กิโลกรัม : 86\n",
            "กรุณากรอกค่าส่วนสูง ซม. : 173\n",
            "ค่า BMI ของคุณ = 28.734672057202044\n"
          ]
        }
      ]
    },
    {
      "cell_type": "code",
      "source": [
        "# คำนวณปริมาณคอนกรีตที่ต้องใช้\n",
        "# วิธีคำนวณคอนกรีตสำหรับ \"เทพื้น\"\n",
        "#ในการคำนวณปริมาณคอนกรีตที่ใช้เทพื้นนั้นมีสูตรคำนวณง่ายๆดังนี้\n",
        "#ปริมาณที่ต้องใช้(คิว) = พื้นที่(ตารางเมตร) x ความหนา(เซนติเมตร) x 0.01\n",
        "W=float(input(\"กรุณากรอกความกว้างของพื้นที่ เมตร : \"))\n",
        "L=float(input(\"กรุณากรอกความยาวของพื้นที่ เมตร : \"))\n",
        "H=float(input(\"กรุณากรอกความหนาของพื้นที่ต้องการ เซนติเมตร : \"))\n",
        "\n",
        "total=W*L*H*0.01\n",
        "print(\"ปริมาณคอนกรีตที่ต้องใช้ เท่ากับ \"+str(total)+\" คิว\")\n",
        "total = total+(total*0.1)\n",
        "print(\"ปริมาณคอนกรีตที่ต้องใช้หลังจากเผื่อไปอีก 10% เท่ากับ \"+str(total)+\" คิว\")\n"
      ],
      "metadata": {
        "colab": {
          "base_uri": "https://localhost:8080/"
        },
        "id": "_gCJ2YGWcSaP",
        "outputId": "b8e637e8-b52c-4432-f62e-f4e481c97ed4"
      },
      "execution_count": null,
      "outputs": [
        {
          "output_type": "stream",
          "name": "stdout",
          "text": [
            "กรุณากรอกความกว้างของพื้นที่ เมตร : 5\n",
            "กรุณากรอกความยาวของพื้นที่ เมตร : 7\n",
            "กรุณากรอกความหนาของพื้นที่ต้องการ เซนติเมตร : 15\n",
            "ปริมาณคอนกรีตที่ต้องใช้ เท่ากับ 5.25 คิว\n",
            "ปริมาณคอนกรีตที่ต้องใช้หลังจากเผื่อไปอีก 10% เท่ากับ 5.775 คิว\n"
          ]
        }
      ]
    },
    {
      "cell_type": "code",
      "source": [
        "#การใช้ if else\n",
        "a=50\n",
        "b=70\n",
        "if a>b:\n",
        "    print(\"a มากกว่า b\")\n",
        "else:\n",
        "    print(\"a น้อยกว่า b\")"
      ],
      "metadata": {
        "colab": {
          "base_uri": "https://localhost:8080/"
        },
        "id": "_87sZEHijg4D",
        "outputId": "20b457d1-c793-4bc6-81b4-f95259ec596a"
      },
      "execution_count": null,
      "outputs": [
        {
          "output_type": "stream",
          "name": "stdout",
          "text": [
            "a น้อยกว่า b\n"
          ]
        }
      ]
    },
    {
      "cell_type": "code",
      "source": [
        "#ให้รับค่า เข้ามาเพื่อคำนวณค่า BMI\n",
        "# Body Mass Index (BMI) มีสูตรการคำนวณ = น้ำหนักตัว[Kg] / (ส่วนสูง[m] ยกกำลังสอง)\n",
        "#กำหนดรับค่า input น้ำหนักตัว กับ ส่วนสูง\n",
        "W = float(input(\"กรุณากรอกค่าน้ำหนัก กิโลกรัม : \"))\n",
        "H = float(input(\"กรุณากรอกค่าส่วนสูง ซม. : \"))\n",
        "\n",
        "# เขียนสมการเพื่อคำนวณค่า BMI\n",
        "H=H/100\n",
        "BMI = W/(H**2)\n",
        "print(\"ค่า BMI ของคุณ = \"+str(BMI))\n",
        "#จากค่า BMI ที่คำนวณได้ ให้แสดงผล ตามตัวเลขดังนี้\n",
        "#อ้วนมาก = 30.0 ขึ้นไป\n",
        "#อ้วน = 25.0 - 29.9\n",
        "#น้ำหนักปกติ เหมาะสม = 18.6 - 24\n",
        "#ผอมเกินไป = น้อยกว่า 18.5\n",
        "\n",
        "if BMI>=30.0:\n",
        "    print(\"คุณอ้วนมาก\")\n",
        "elif BMI>=25:\n",
        "    print(\"คุณอ้วน\")\n",
        "elif BMI>=18.6:\n",
        "    print(\"คุณผอมเกินไป\")\n",
        "else:\n",
        "    print(\"คุณผอมเกินไป\")"
      ],
      "metadata": {
        "id": "E15lB2pNk5ZC"
      },
      "execution_count": null,
      "outputs": []
    },
    {
      "cell_type": "code",
      "source": [
        "#ทดสอบการวน loop\n",
        "i=1\n",
        "while i<7:\n",
        "    print(\"สวัสดี\")\n",
        "    i=i+1"
      ],
      "metadata": {
        "colab": {
          "base_uri": "https://localhost:8080/"
        },
        "id": "KlTrx0Lzp49o",
        "outputId": "02a584fd-b094-4808-c52d-eec46f5623ff"
      },
      "execution_count": 1,
      "outputs": [
        {
          "output_type": "stream",
          "name": "stdout",
          "text": [
            "สวัสดี\n",
            "สวัสดี\n",
            "สวัสดี\n",
            "สวัสดี\n",
            "สวัสดี\n",
            "สวัสดี\n"
          ]
        }
      ]
    },
    {
      "cell_type": "code",
      "source": [
        "#ทดสอบการวน loop\n",
        "i=1\n",
        "while i<20:\n",
        "    print(\"สวัสดี \"+str(i))\n",
        "    if i==7:\n",
        "        break\n",
        "    i=i+1"
      ],
      "metadata": {
        "colab": {
          "base_uri": "https://localhost:8080/"
        },
        "id": "uGPcjAsWs1Mp",
        "outputId": "3f9866de-039a-4342-a41f-518ff60dcb51"
      },
      "execution_count": 3,
      "outputs": [
        {
          "output_type": "stream",
          "name": "stdout",
          "text": [
            "สวัสดี 1\n",
            "สวัสดี 2\n",
            "สวัสดี 3\n",
            "สวัสดี 4\n",
            "สวัสดี 5\n",
            "สวัสดี 6\n",
            "สวัสดี 7\n"
          ]
        }
      ]
    },
    {
      "cell_type": "code",
      "source": [
        "#ใช้ loop for\n",
        "for x in range(10):\n",
        "    print(x)"
      ],
      "metadata": {
        "colab": {
          "base_uri": "https://localhost:8080/"
        },
        "id": "hO8MbeF6tdzv",
        "outputId": "d145e406-367e-48c3-fb66-5dcc5d71c956"
      },
      "execution_count": 4,
      "outputs": [
        {
          "output_type": "stream",
          "name": "stdout",
          "text": [
            "0\n",
            "1\n",
            "2\n",
            "3\n",
            "4\n",
            "5\n",
            "6\n",
            "7\n",
            "8\n",
            "9\n"
          ]
        }
      ]
    },
    {
      "cell_type": "code",
      "source": [
        "#ใช้ loop for\n",
        "for x in range(10):\n",
        "    x=x+1\n",
        "    print(x)"
      ],
      "metadata": {
        "colab": {
          "base_uri": "https://localhost:8080/"
        },
        "id": "oxqhPGcvt0uE",
        "outputId": "c271ff0c-c7ad-4bd4-a2fd-b8dba3c875ce"
      },
      "execution_count": 5,
      "outputs": [
        {
          "output_type": "stream",
          "name": "stdout",
          "text": [
            "1\n",
            "2\n",
            "3\n",
            "4\n",
            "5\n",
            "6\n",
            "7\n",
            "8\n",
            "9\n",
            "10\n"
          ]
        }
      ]
    },
    {
      "cell_type": "code",
      "source": [
        "# เขียนแม่สูตรคูณ แม่ 2 ถึง 12\n",
        "\n",
        "\n",
        "print(\"======================================\")\n",
        "for a in range(11):\n",
        "    i=1\n",
        "    num1=a+2\n",
        "    print(\"คุณต้องการแสดงแม่สูตรคูณแม่ \"+str(num1))\n",
        "    while i<=12:\n",
        "        total=num1*i\n",
        "        print(str(num1)+\"x\"+str(i)+\"=\"+str(total))\n",
        "        i+=1\n",
        "    print(\"======================================\")\n",
        "\n"
      ],
      "metadata": {
        "colab": {
          "base_uri": "https://localhost:8080/"
        },
        "id": "4WR9PzeduzzM",
        "outputId": "b8066ea8-750a-44c2-afa3-85f4d004465a"
      },
      "execution_count": 12,
      "outputs": [
        {
          "output_type": "stream",
          "name": "stdout",
          "text": [
            "======================================\n",
            "คุณต้องการแสดงแม่สูตรคูณแม่ 2\n",
            "2x1=2\n",
            "2x2=4\n",
            "2x3=6\n",
            "2x4=8\n",
            "2x5=10\n",
            "2x6=12\n",
            "2x7=14\n",
            "2x8=16\n",
            "2x9=18\n",
            "2x10=20\n",
            "2x11=22\n",
            "2x12=24\n",
            "======================================\n",
            "คุณต้องการแสดงแม่สูตรคูณแม่ 3\n",
            "3x1=3\n",
            "3x2=6\n",
            "3x3=9\n",
            "3x4=12\n",
            "3x5=15\n",
            "3x6=18\n",
            "3x7=21\n",
            "3x8=24\n",
            "3x9=27\n",
            "3x10=30\n",
            "3x11=33\n",
            "3x12=36\n",
            "======================================\n",
            "คุณต้องการแสดงแม่สูตรคูณแม่ 4\n",
            "4x1=4\n",
            "4x2=8\n",
            "4x3=12\n",
            "4x4=16\n",
            "4x5=20\n",
            "4x6=24\n",
            "4x7=28\n",
            "4x8=32\n",
            "4x9=36\n",
            "4x10=40\n",
            "4x11=44\n",
            "4x12=48\n",
            "======================================\n",
            "คุณต้องการแสดงแม่สูตรคูณแม่ 5\n",
            "5x1=5\n",
            "5x2=10\n",
            "5x3=15\n",
            "5x4=20\n",
            "5x5=25\n",
            "5x6=30\n",
            "5x7=35\n",
            "5x8=40\n",
            "5x9=45\n",
            "5x10=50\n",
            "5x11=55\n",
            "5x12=60\n",
            "======================================\n",
            "คุณต้องการแสดงแม่สูตรคูณแม่ 6\n",
            "6x1=6\n",
            "6x2=12\n",
            "6x3=18\n",
            "6x4=24\n",
            "6x5=30\n",
            "6x6=36\n",
            "6x7=42\n",
            "6x8=48\n",
            "6x9=54\n",
            "6x10=60\n",
            "6x11=66\n",
            "6x12=72\n",
            "======================================\n",
            "คุณต้องการแสดงแม่สูตรคูณแม่ 7\n",
            "7x1=7\n",
            "7x2=14\n",
            "7x3=21\n",
            "7x4=28\n",
            "7x5=35\n",
            "7x6=42\n",
            "7x7=49\n",
            "7x8=56\n",
            "7x9=63\n",
            "7x10=70\n",
            "7x11=77\n",
            "7x12=84\n",
            "======================================\n",
            "คุณต้องการแสดงแม่สูตรคูณแม่ 8\n",
            "8x1=8\n",
            "8x2=16\n",
            "8x3=24\n",
            "8x4=32\n",
            "8x5=40\n",
            "8x6=48\n",
            "8x7=56\n",
            "8x8=64\n",
            "8x9=72\n",
            "8x10=80\n",
            "8x11=88\n",
            "8x12=96\n",
            "======================================\n",
            "คุณต้องการแสดงแม่สูตรคูณแม่ 9\n",
            "9x1=9\n",
            "9x2=18\n",
            "9x3=27\n",
            "9x4=36\n",
            "9x5=45\n",
            "9x6=54\n",
            "9x7=63\n",
            "9x8=72\n",
            "9x9=81\n",
            "9x10=90\n",
            "9x11=99\n",
            "9x12=108\n",
            "======================================\n",
            "คุณต้องการแสดงแม่สูตรคูณแม่ 10\n",
            "10x1=10\n",
            "10x2=20\n",
            "10x3=30\n",
            "10x4=40\n",
            "10x5=50\n",
            "10x6=60\n",
            "10x7=70\n",
            "10x8=80\n",
            "10x9=90\n",
            "10x10=100\n",
            "10x11=110\n",
            "10x12=120\n",
            "======================================\n",
            "คุณต้องการแสดงแม่สูตรคูณแม่ 11\n",
            "11x1=11\n",
            "11x2=22\n",
            "11x3=33\n",
            "11x4=44\n",
            "11x5=55\n",
            "11x6=66\n",
            "11x7=77\n",
            "11x8=88\n",
            "11x9=99\n",
            "11x10=110\n",
            "11x11=121\n",
            "11x12=132\n",
            "======================================\n",
            "คุณต้องการแสดงแม่สูตรคูณแม่ 12\n",
            "12x1=12\n",
            "12x2=24\n",
            "12x3=36\n",
            "12x4=48\n",
            "12x5=60\n",
            "12x6=72\n",
            "12x7=84\n",
            "12x8=96\n",
            "12x9=108\n",
            "12x10=120\n",
            "12x11=132\n",
            "12x12=144\n",
            "======================================\n"
          ]
        }
      ]
    },
    {
      "cell_type": "code",
      "source": [
        "#เขียน code ที่จะดึงราคา bitcoin เพื่อจะนำมาแสดง เป้น แบบ realtime\n"
      ],
      "metadata": {
        "id": "u-v107WEzHCk"
      },
      "execution_count": null,
      "outputs": []
    },
    {
      "cell_type": "code",
      "source": [],
      "metadata": {
        "id": "rPSNWNH7z1vr"
      },
      "execution_count": null,
      "outputs": []
    },
    {
      "cell_type": "code",
      "source": [
        "# prompt: ช่วยเขียน code  ที่ดึงราคา bitcoin มาแสดงแบบ realtime\n",
        "\n",
        "import requests\n",
        "import time\n",
        "\n",
        "def get_bitcoin_price():\n",
        "  \"\"\"Fetches the current price of Bitcoin from a public API.\"\"\"\n",
        "  try:\n",
        "    url = \"https://api.coingecko.com/api/v3/simple/price?ids=bitcoin&vs_currencies=usd\"\n",
        "    response = requests.get(url)\n",
        "    response.raise_for_status()  # Raise an exception for bad status codes\n",
        "\n",
        "    data = response.json()\n",
        "    price = data[\"bitcoin\"][\"usd\"]\n",
        "    return price\n",
        "  except requests.exceptions.RequestException as e:\n",
        "    print(f\"Error fetching Bitcoin price: {e}\")\n",
        "    return None\n",
        "  except KeyError:\n",
        "    print(\"Error: Unexpected response format from the API.\")\n",
        "    return None\n",
        "\n",
        "if __name__ == \"__main__\":\n",
        "  while True:\n",
        "    price = get_bitcoin_price()\n",
        "    if price:\n",
        "      print(f\"Current Bitcoin price: ${price}\")\n",
        "    time.sleep(60)  # Update every 60 seconds"
      ],
      "metadata": {
        "colab": {
          "base_uri": "https://localhost:8080/",
          "height": 263
        },
        "id": "hgm77uUZvbYE",
        "outputId": "db90878e-b3b8-4874-e2b5-7016e3ac398e"
      },
      "execution_count": 17,
      "outputs": [
        {
          "output_type": "stream",
          "name": "stdout",
          "text": [
            "Current Bitcoin price: $93464\n",
            "Current Bitcoin price: $93464\n",
            "Current Bitcoin price: $93389\n",
            "Current Bitcoin price: $93389\n",
            "Current Bitcoin price: $93389\n"
          ]
        },
        {
          "output_type": "error",
          "ename": "KeyboardInterrupt",
          "evalue": "",
          "traceback": [
            "\u001b[0;31m---------------------------------------------------------------------------\u001b[0m",
            "\u001b[0;31mKeyboardInterrupt\u001b[0m                         Traceback (most recent call last)",
            "\u001b[0;32m<ipython-input-17-bcb4ae4dcf89>\u001b[0m in \u001b[0;36m<cell line: 23>\u001b[0;34m()\u001b[0m\n\u001b[1;32m     26\u001b[0m     \u001b[0;32mif\u001b[0m \u001b[0mprice\u001b[0m\u001b[0;34m:\u001b[0m\u001b[0;34m\u001b[0m\u001b[0;34m\u001b[0m\u001b[0m\n\u001b[1;32m     27\u001b[0m       \u001b[0mprint\u001b[0m\u001b[0;34m(\u001b[0m\u001b[0;34mf\"Current Bitcoin price: ${price}\"\u001b[0m\u001b[0;34m)\u001b[0m\u001b[0;34m\u001b[0m\u001b[0;34m\u001b[0m\u001b[0m\n\u001b[0;32m---> 28\u001b[0;31m     \u001b[0mtime\u001b[0m\u001b[0;34m.\u001b[0m\u001b[0msleep\u001b[0m\u001b[0;34m(\u001b[0m\u001b[0;36m60\u001b[0m\u001b[0;34m)\u001b[0m  \u001b[0;31m# Update every 60 seconds\u001b[0m\u001b[0;34m\u001b[0m\u001b[0;34m\u001b[0m\u001b[0m\n\u001b[0m",
            "\u001b[0;31mKeyboardInterrupt\u001b[0m: "
          ]
        }
      ]
    },
    {
      "cell_type": "code",
      "source": [],
      "metadata": {
        "id": "HdATyTnh0Zxu"
      },
      "execution_count": null,
      "outputs": []
    }
  ]
}